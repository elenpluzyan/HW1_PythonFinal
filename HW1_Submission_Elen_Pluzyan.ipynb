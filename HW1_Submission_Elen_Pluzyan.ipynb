{
  "nbformat": 4,
  "nbformat_minor": 0,
  "metadata": {
    "colab": {
      "name": "HW1_Submission.ipynb",
      "version": "0.3.2",
      "provenance": [],
      "collapsed_sections": []
    },
    "kernelspec": {
      "display_name": "Python 3",
      "language": "python",
      "name": "python3"
    }
  },
  "cells": [
    {
      "metadata": {
        "id": "ugXJZ5Jxk8CV",
        "colab_type": "code",
        "colab": {}
      },
      "cell_type": "code",
      "source": [
        "# There is no need to run this chunk of code.\n",
        "import os\n",
        "wd=''\n",
        "os.chdir(wd)\n",
        "%run HW1_solutions.ipynb"
      ],
      "execution_count": 0,
      "outputs": []
    },
    {
      "metadata": {
        "id": "b1k_PISKk8Cl",
        "colab_type": "text"
      },
      "cell_type": "markdown",
      "source": [
        "## Homework 1 Submission\n",
        "Write your name and surname below:\n",
        "<br>\n",
        "Name: Elen\n",
        "<br>\n",
        "Surname: Pluzyan"
      ]
    },
    {
      "metadata": {
        "id": "MzuEstNSk8Cp",
        "colab_type": "text"
      },
      "cell_type": "markdown",
      "source": [
        "***Problem 1:*** <br> Write a program that: <br>\n",
        "a. compares the lengths of two texts given below (i.e. the number of characters in each text) <br>\n",
        "b. compares the numbers of words in each text<br>\n",
        "c. calculates the frequency of each word (the number of times the word appears in the text) in each text and puts them in a dictionary <br>\n",
        "d. prints the number of unique words used in each text as a dictionary.\n",
        "<br>\n",
        "Example 1: {\"The legth of text a\": 487,\"The legth of text b\": 562}<br>\n",
        "Example 2: Word frequency- {\"Jovi\":2,\"in\": 4}\n"
      ]
    },
    {
      "metadata": {
        "id": "DKKRs1jxk8Cu",
        "colab_type": "code",
        "colab": {}
      },
      "cell_type": "code",
      "source": [
        "a = 'Bon Jovi is an American rock band formed in 1983 in Sayreville, New Jersey. \\\n",
        "It consists of singer Jon Bon Jovi, keyboardist David Bryan, drummer Tico Torres, \\\n",
        "guitarist PhilX, and bassist Hugh McDonald. Previous bassist Alec John Such was \\\n",
        "dismissed in 1994, and longtime guitarist and co-songwriter Richie Sambora left in 2013.'\n",
        "\n",
        "b = \"Ronald Wilson Reagan (/ˈreɪɡən/; February 6, 1911 – June 5, 2004) \\\n",
        "was an American politician who served as the 40th president of the United \\\n",
        "States from 1981 to 1989. Prior to his presidency, he was a Hollywood actor \\\n",
        "and union leader before serving as the 33rd governor of California from 1967 to 1975.\""
      ],
      "execution_count": 0,
      "outputs": []
    },
    {
      "metadata": {
        "id": "tlIdqIy0oAJE",
        "colab_type": "code",
        "colab": {}
      },
      "cell_type": "code",
      "source": [
        "###_____________Start code here_________________###"
      ],
      "execution_count": 0,
      "outputs": []
    },
    {
      "metadata": {
        "id": "vjn1c8gqoAF3",
        "colab_type": "code",
        "outputId": "d0fc55b0-f488-4d74-db13-084926ae46af",
        "colab": {
          "base_uri": "https://localhost:8080/",
          "height": 35
        }
      },
      "cell_type": "code",
      "source": [
        "#a\n",
        "\n",
        "len(a)"
      ],
      "execution_count": 0,
      "outputs": [
        {
          "output_type": "execute_result",
          "data": {
            "text/plain": [
              "326"
            ]
          },
          "metadata": {
            "tags": []
          },
          "execution_count": 72
        }
      ]
    },
    {
      "metadata": {
        "id": "5deSds2woABt",
        "colab_type": "code",
        "outputId": "ebf07839-ab43-4b5f-d5ae-8eb2b003f7fc",
        "colab": {
          "base_uri": "https://localhost:8080/",
          "height": 35
        }
      },
      "cell_type": "code",
      "source": [
        "len(b)"
      ],
      "execution_count": 0,
      "outputs": [
        {
          "output_type": "execute_result",
          "data": {
            "text/plain": [
              "301"
            ]
          },
          "metadata": {
            "tags": []
          },
          "execution_count": 73
        }
      ]
    },
    {
      "metadata": {
        "id": "v5KXxKL3n_-6",
        "colab_type": "code",
        "outputId": "0d5ee9eb-5dd3-43ff-bca5-32fc22f76c1d",
        "colab": {
          "base_uri": "https://localhost:8080/",
          "height": 35
        }
      },
      "cell_type": "code",
      "source": [
        "if len(a)>len(b):\n",
        "    print(\"text a is longer\")\n",
        "elif len(a)<len(b):\n",
        "    print(\"text b is longer\")\n",
        "else:\n",
        "    print(\"both texts are equal\")"
      ],
      "execution_count": 0,
      "outputs": [
        {
          "output_type": "stream",
          "text": [
            "text a is longer\n"
          ],
          "name": "stdout"
        }
      ]
    },
    {
      "metadata": {
        "id": "9C_ym_PQoVQh",
        "colab_type": "code",
        "outputId": "6189c0d9-5909-44b5-9f35-b46a13370313",
        "colab": {
          "base_uri": "https://localhost:8080/",
          "height": 35
        }
      },
      "cell_type": "code",
      "source": [
        "#b\n",
        "len(a.split())"
      ],
      "execution_count": 0,
      "outputs": [
        {
          "output_type": "execute_result",
          "data": {
            "text/plain": [
              "52"
            ]
          },
          "metadata": {
            "tags": []
          },
          "execution_count": 75
        }
      ]
    },
    {
      "metadata": {
        "id": "_l_M3lU_o8XB",
        "colab_type": "code",
        "outputId": "e74f264b-1e73-4cc5-f212-bca818d5ded7",
        "colab": {
          "base_uri": "https://localhost:8080/",
          "height": 35
        }
      },
      "cell_type": "code",
      "source": [
        "len(b.split())"
      ],
      "execution_count": 0,
      "outputs": [
        {
          "output_type": "execute_result",
          "data": {
            "text/plain": [
              "53"
            ]
          },
          "metadata": {
            "tags": []
          },
          "execution_count": 76
        }
      ]
    },
    {
      "metadata": {
        "id": "HZ4HH2Kro8Td",
        "colab_type": "code",
        "outputId": "d605364e-3c69-4815-c9b9-4638c1717b5f",
        "colab": {
          "base_uri": "https://localhost:8080/",
          "height": 35
        }
      },
      "cell_type": "code",
      "source": [
        "if len(a.split())>len(b.split()):\n",
        "    print(\"the number of words in a is bigger\")\n",
        "elif len(a.split())<len(b.split()):\n",
        "    print(\"the number of words in b is bigger\")\n",
        "else:\n",
        "    print(\"both texts are equal\")"
      ],
      "execution_count": 0,
      "outputs": [
        {
          "output_type": "stream",
          "text": [
            "the number of words in b is bigger\n"
          ],
          "name": "stdout"
        }
      ]
    },
    {
      "metadata": {
        "id": "Nhrzsq937scj",
        "colab_type": "code",
        "outputId": "4af783b7-99a0-4911-ad65-a94af4250a76",
        "colab": {
          "base_uri": "https://localhost:8080/",
          "height": 780
        }
      },
      "cell_type": "code",
      "source": [
        "#c\n",
        "import collections\n",
        "\n",
        "c1=a.split()\n",
        "c2=b.split()\n",
        "\n",
        "collections.Counter(c1)\n"
      ],
      "execution_count": 96,
      "outputs": [
        {
          "output_type": "execute_result",
          "data": {
            "text/plain": [
              "Counter({'1983': 1,\n",
              "         '1994,': 1,\n",
              "         '2013.': 1,\n",
              "         'Alec': 1,\n",
              "         'American': 1,\n",
              "         'Bon': 2,\n",
              "         'Bryan,': 1,\n",
              "         'David': 1,\n",
              "         'Hugh': 1,\n",
              "         'It': 1,\n",
              "         'Jersey.': 1,\n",
              "         'John': 1,\n",
              "         'Jon': 1,\n",
              "         'Jovi': 1,\n",
              "         'Jovi,': 1,\n",
              "         'McDonald.': 1,\n",
              "         'New': 1,\n",
              "         'PhilX,': 1,\n",
              "         'Previous': 1,\n",
              "         'Richie': 1,\n",
              "         'Sambora': 1,\n",
              "         'Sayreville,': 1,\n",
              "         'Such': 1,\n",
              "         'Tico': 1,\n",
              "         'Torres,': 1,\n",
              "         'an': 1,\n",
              "         'and': 3,\n",
              "         'band': 1,\n",
              "         'bassist': 2,\n",
              "         'co-songwriter': 1,\n",
              "         'consists': 1,\n",
              "         'dismissed': 1,\n",
              "         'drummer': 1,\n",
              "         'formed': 1,\n",
              "         'guitarist': 2,\n",
              "         'in': 4,\n",
              "         'is': 1,\n",
              "         'keyboardist': 1,\n",
              "         'left': 1,\n",
              "         'longtime': 1,\n",
              "         'of': 1,\n",
              "         'rock': 1,\n",
              "         'singer': 1,\n",
              "         'was': 1})"
            ]
          },
          "metadata": {
            "tags": []
          },
          "execution_count": 96
        }
      ]
    },
    {
      "metadata": {
        "id": "RJ6wrYIu7saR",
        "colab_type": "code",
        "outputId": "acd36d98-3629-4942-bef4-90cf9edb6e9d",
        "colab": {
          "base_uri": "https://localhost:8080/",
          "height": 797
        }
      },
      "cell_type": "code",
      "source": [
        "collections.Counter(c2)\n"
      ],
      "execution_count": 0,
      "outputs": [
        {
          "output_type": "execute_result",
          "data": {
            "text/plain": [
              "Counter({'(/ˈreɪɡən/;': 1,\n",
              "         '1911': 1,\n",
              "         '1967': 1,\n",
              "         '1975.': 1,\n",
              "         '1981': 1,\n",
              "         '1989.': 1,\n",
              "         '2004)': 1,\n",
              "         '33rd': 1,\n",
              "         '40th': 1,\n",
              "         '5,': 1,\n",
              "         '6,': 1,\n",
              "         'American': 1,\n",
              "         'California': 1,\n",
              "         'February': 1,\n",
              "         'Hollywood': 1,\n",
              "         'June': 1,\n",
              "         'Prior': 1,\n",
              "         'Reagan': 1,\n",
              "         'Ronald': 1,\n",
              "         'States': 1,\n",
              "         'United': 1,\n",
              "         'Wilson': 1,\n",
              "         'a': 1,\n",
              "         'actor': 1,\n",
              "         'an': 1,\n",
              "         'and': 1,\n",
              "         'as': 2,\n",
              "         'before': 1,\n",
              "         'from': 2,\n",
              "         'governor': 1,\n",
              "         'he': 1,\n",
              "         'his': 1,\n",
              "         'leader': 1,\n",
              "         'of': 2,\n",
              "         'politician': 1,\n",
              "         'presidency,': 1,\n",
              "         'president': 1,\n",
              "         'served': 1,\n",
              "         'serving': 1,\n",
              "         'the': 3,\n",
              "         'to': 3,\n",
              "         'union': 1,\n",
              "         'was': 2,\n",
              "         'who': 1,\n",
              "         '–': 1})"
            ]
          },
          "metadata": {
            "tags": []
          },
          "execution_count": 79
        }
      ]
    },
    {
      "metadata": {
        "id": "gDAbnjES7sUb",
        "colab_type": "code",
        "colab": {}
      },
      "cell_type": "code",
      "source": [
        ""
      ],
      "execution_count": 0,
      "outputs": []
    },
    {
      "metadata": {
        "id": "e82VkzegpXHA",
        "colab_type": "code",
        "outputId": "1c76aff4-38c3-4590-953b-d72a50d578e5",
        "colab": {
          "base_uri": "https://localhost:8080/",
          "height": 780
        }
      },
      "cell_type": "code",
      "source": [
        "#d\n",
        "import collections\n",
        "d=a.split()\n",
        "g=set(d)\n",
        "collections.Counter(g)"
      ],
      "execution_count": 0,
      "outputs": [
        {
          "output_type": "execute_result",
          "data": {
            "text/plain": [
              "Counter({'1983': 1,\n",
              "         '1994,': 1,\n",
              "         '2013.': 1,\n",
              "         'Alec': 1,\n",
              "         'American': 1,\n",
              "         'Bon': 1,\n",
              "         'Bryan,': 1,\n",
              "         'David': 1,\n",
              "         'Hugh': 1,\n",
              "         'It': 1,\n",
              "         'Jersey.': 1,\n",
              "         'John': 1,\n",
              "         'Jon': 1,\n",
              "         'Jovi': 1,\n",
              "         'Jovi,': 1,\n",
              "         'McDonald.': 1,\n",
              "         'New': 1,\n",
              "         'PhilX,': 1,\n",
              "         'Previous': 1,\n",
              "         'Richie': 1,\n",
              "         'Sambora': 1,\n",
              "         'Sayreville,': 1,\n",
              "         'Such': 1,\n",
              "         'Tico': 1,\n",
              "         'Torres,': 1,\n",
              "         'an': 1,\n",
              "         'and': 1,\n",
              "         'band': 1,\n",
              "         'bassist': 1,\n",
              "         'co-songwriter': 1,\n",
              "         'consists': 1,\n",
              "         'dismissed': 1,\n",
              "         'drummer': 1,\n",
              "         'formed': 1,\n",
              "         'guitarist': 1,\n",
              "         'in': 1,\n",
              "         'is': 1,\n",
              "         'keyboardist': 1,\n",
              "         'left': 1,\n",
              "         'longtime': 1,\n",
              "         'of': 1,\n",
              "         'rock': 1,\n",
              "         'singer': 1,\n",
              "         'was': 1})"
            ]
          },
          "metadata": {
            "tags": []
          },
          "execution_count": 80
        }
      ]
    },
    {
      "metadata": {
        "id": "OSfMNy5zpXD8",
        "colab_type": "code",
        "outputId": "1da90a3f-7c70-4885-9129-471369976ca9",
        "colab": {
          "base_uri": "https://localhost:8080/",
          "height": 797
        }
      },
      "cell_type": "code",
      "source": [
        "fm=b.split()\n",
        "j=set(b)\n",
        "collections.Counter(fm)"
      ],
      "execution_count": 0,
      "outputs": [
        {
          "output_type": "execute_result",
          "data": {
            "text/plain": [
              "Counter({'(/ˈreɪɡən/;': 1,\n",
              "         '1911': 1,\n",
              "         '1967': 1,\n",
              "         '1975.': 1,\n",
              "         '1981': 1,\n",
              "         '1989.': 1,\n",
              "         '2004)': 1,\n",
              "         '33rd': 1,\n",
              "         '40th': 1,\n",
              "         '5,': 1,\n",
              "         '6,': 1,\n",
              "         'American': 1,\n",
              "         'California': 1,\n",
              "         'February': 1,\n",
              "         'Hollywood': 1,\n",
              "         'June': 1,\n",
              "         'Prior': 1,\n",
              "         'Reagan': 1,\n",
              "         'Ronald': 1,\n",
              "         'States': 1,\n",
              "         'United': 1,\n",
              "         'Wilson': 1,\n",
              "         'a': 1,\n",
              "         'actor': 1,\n",
              "         'an': 1,\n",
              "         'and': 1,\n",
              "         'as': 2,\n",
              "         'before': 1,\n",
              "         'from': 2,\n",
              "         'governor': 1,\n",
              "         'he': 1,\n",
              "         'his': 1,\n",
              "         'leader': 1,\n",
              "         'of': 2,\n",
              "         'politician': 1,\n",
              "         'presidency,': 1,\n",
              "         'president': 1,\n",
              "         'served': 1,\n",
              "         'serving': 1,\n",
              "         'the': 3,\n",
              "         'to': 3,\n",
              "         'union': 1,\n",
              "         'was': 2,\n",
              "         'who': 1,\n",
              "         '–': 1})"
            ]
          },
          "metadata": {
            "tags": []
          },
          "execution_count": 85
        }
      ]
    },
    {
      "metadata": {
        "id": "LEuQMuWNpXBC",
        "colab_type": "code",
        "colab": {}
      },
      "cell_type": "code",
      "source": [
        ""
      ],
      "execution_count": 0,
      "outputs": []
    },
    {
      "metadata": {
        "id": "QmwBev05k8C6",
        "colab_type": "code",
        "colab": {}
      },
      "cell_type": "code",
      "source": [
        "###_____________End code here_________________###"
      ],
      "execution_count": 0,
      "outputs": []
    },
    {
      "metadata": {
        "id": "6tPVoWKdk8DH",
        "colab_type": "code",
        "outputId": "573c278b-db85-4d46-d7ed-597df8338dea",
        "colab": {
          "base_uri": "https://localhost:8080/",
          "height": 166
        }
      },
      "cell_type": "code",
      "source": [
        "# There is no need to run this chunk of code.\n",
        "ex1(a,b)"
      ],
      "execution_count": 0,
      "outputs": [
        {
          "output_type": "error",
          "ename": "NameError",
          "evalue": "ignored",
          "traceback": [
            "\u001b[0;31m---------------------------------------------------------------------------\u001b[0m",
            "\u001b[0;31mNameError\u001b[0m                                 Traceback (most recent call last)",
            "\u001b[0;32m<ipython-input-86-0f9092fe18f6>\u001b[0m in \u001b[0;36m<module>\u001b[0;34m()\u001b[0m\n\u001b[0;32m----> 1\u001b[0;31m \u001b[0mex1\u001b[0m\u001b[0;34m(\u001b[0m\u001b[0ma\u001b[0m\u001b[0;34m,\u001b[0m\u001b[0mb\u001b[0m\u001b[0;34m)\u001b[0m\u001b[0;34m\u001b[0m\u001b[0;34m\u001b[0m\u001b[0m\n\u001b[0m",
            "\u001b[0;31mNameError\u001b[0m: name 'ex1' is not defined"
          ]
        }
      ]
    },
    {
      "metadata": {
        "id": "hqUlYOpkk8DU",
        "colab_type": "text"
      },
      "cell_type": "markdown",
      "source": [
        "***Problem 13:*** Write a program to calculate the sum of the digits of a number  until it is a single-digit number (Example: **199** -> 1+9+9=**19** -> 1+9=**10** -> 1+0=**1**). Let the program print the result of each step (the bolded numbers in the example). Run the program for 289, 1011, 3333."
      ]
    },
    {
      "metadata": {
        "id": "StjbPKgM0cKI",
        "colab_type": "code",
        "colab": {}
      },
      "cell_type": "code",
      "source": [
        "###_____________Start code here_________________###"
      ],
      "execution_count": 0,
      "outputs": []
    },
    {
      "metadata": {
        "id": "iLR-wTUYXGSI",
        "colab_type": "code",
        "outputId": "bd8017c2-4765-40a3-e739-1bf9ffb9f015",
        "colab": {
          "base_uri": "https://localhost:8080/",
          "height": 69
        }
      },
      "cell_type": "code",
      "source": [
        "def digitsum(numb): \n",
        "    sum = 0\n",
        "    while(numb > 0 or sum > 9): \n",
        "        if(numb == 0): \n",
        "            numb = sum\n",
        "            print(sum)\n",
        "            sum = 0\n",
        "        sum += int(numb % 10)\n",
        "        numb /= 10\n",
        "    return sum\n",
        "  \n",
        "print(digitsum(289))"
      ],
      "execution_count": 0,
      "outputs": [
        {
          "output_type": "stream",
          "text": [
            "19\n",
            "10\n",
            "1\n"
          ],
          "name": "stdout"
        }
      ]
    },
    {
      "metadata": {
        "id": "PXtu-KqZk8DX",
        "colab_type": "code",
        "colab": {}
      },
      "cell_type": "code",
      "source": [
        "###_____________End code here_________________###"
      ],
      "execution_count": 0,
      "outputs": []
    },
    {
      "metadata": {
        "id": "Gm0skTT7k8De",
        "colab_type": "code",
        "colab": {}
      },
      "cell_type": "code",
      "source": [
        "# There is no need to run this chunk of code.\n",
        "ex13(289)\n",
        "ex13(1011)\n",
        "ex13(3333)"
      ],
      "execution_count": 0,
      "outputs": []
    },
    {
      "metadata": {
        "id": "VN8tKq8Qk8Dk",
        "colab_type": "text"
      },
      "cell_type": "markdown",
      "source": [
        "***Problem 14:*** Write a program to print a chess board where **\"X\"s** are black squares and **\"O\"s** are white ones. Hint: you can use \"end\" parameter of print() function to print on the same line and separate the outputs of different prints by space or any character you want. More on this topic here: https://www.geeksforgeeks.org/gfact-50-python-end-parameter-in-print/.\n",
        "<br>The output should be like this:\n",
        "<img src=\"chess.jpg\" style=\"width: 200px;\">"
      ]
    },
    {
      "metadata": {
        "id": "2ESs8zj944E-",
        "colab_type": "code",
        "colab": {}
      },
      "cell_type": "code",
      "source": [
        "###_____________Start code here_________________###"
      ],
      "execution_count": 0,
      "outputs": []
    },
    {
      "metadata": {
        "id": "ILqg6k8U438w",
        "colab_type": "code",
        "colab": {
          "base_uri": "https://localhost:8080/",
          "height": 295
        },
        "outputId": "1d9ea17d-bd36-49cc-d96c-c63a7a5edb6d"
      },
      "cell_type": "code",
      "source": [
        "for i in range(8):\n",
        "    for j in range(4):\n",
        "        if i%2==0:  \n",
        "            print(\"O    \", end=\"X    \")\n",
        "        else:\n",
        "            print(\"X    \", end=\"O    \")\n",
        "    print(\"\\n\")"
      ],
      "execution_count": 18,
      "outputs": [
        {
          "output_type": "stream",
          "text": [
            "O    X    O    X    O    X    O    X    \n",
            "\n",
            "X    O    X    O    X    O    X    O    \n",
            "\n",
            "O    X    O    X    O    X    O    X    \n",
            "\n",
            "X    O    X    O    X    O    X    O    \n",
            "\n",
            "O    X    O    X    O    X    O    X    \n",
            "\n",
            "X    O    X    O    X    O    X    O    \n",
            "\n",
            "O    X    O    X    O    X    O    X    \n",
            "\n",
            "X    O    X    O    X    O    X    O    \n",
            "\n"
          ],
          "name": "stdout"
        }
      ]
    },
    {
      "metadata": {
        "id": "-nP3pqb6k8Dn",
        "colab_type": "code",
        "colab": {}
      },
      "cell_type": "code",
      "source": [
        "###_____________End code here_________________###"
      ],
      "execution_count": 0,
      "outputs": []
    },
    {
      "metadata": {
        "id": "8P204q9-k8Dw",
        "colab_type": "code",
        "colab": {}
      },
      "cell_type": "code",
      "source": [
        "# There is no need to run this chunk of code.\n",
        "ex14()"
      ],
      "execution_count": 0,
      "outputs": []
    },
    {
      "metadata": {
        "id": "NrJehBLbk8D4",
        "colab_type": "text"
      },
      "cell_type": "markdown",
      "source": [
        "***Problem 15:*** Write a program to reverse the digits of a given integer without using any built-in function or slicing. (**Example**: 12345 to 54321). Run the program for 4815162342."
      ]
    },
    {
      "metadata": {
        "id": "L9q3JInN47H7",
        "colab_type": "code",
        "colab": {}
      },
      "cell_type": "code",
      "source": [
        "###_____________Start code here_________________###\n"
      ],
      "execution_count": 0,
      "outputs": []
    },
    {
      "metadata": {
        "id": "8oDqj_9QpD3x",
        "colab_type": "code",
        "colab": {
          "base_uri": "https://localhost:8080/",
          "height": 35
        },
        "outputId": "9d646e26-b985-4b5e-effa-141f08042bda"
      },
      "cell_type": "code",
      "source": [
        "def reverse_num(num):\n",
        "  r_num = 0\n",
        "  while(num > 0) :\n",
        "    digit=int(num%10)\n",
        "    r_num=r_num*10+digit\n",
        "    num=int(num/10)\n",
        "  return r_num\n",
        "print(reverse_num(4815162342))"
      ],
      "execution_count": 6,
      "outputs": [
        {
          "output_type": "stream",
          "text": [
            "2432615184\n"
          ],
          "name": "stdout"
        }
      ]
    },
    {
      "metadata": {
        "id": "Wc6-nCL4k8D7",
        "colab_type": "code",
        "colab": {}
      },
      "cell_type": "code",
      "source": [
        "###_____________End code here_________________###"
      ],
      "execution_count": 0,
      "outputs": []
    },
    {
      "metadata": {
        "id": "F1JEsCztk8EF",
        "colab_type": "code",
        "colab": {}
      },
      "cell_type": "code",
      "source": [
        "# There is no need to run this chunk of code.\n",
        "ex15(4815162342)"
      ],
      "execution_count": 0,
      "outputs": []
    },
    {
      "metadata": {
        "id": "heGIKPVlk8ET",
        "colab_type": "text"
      },
      "cell_type": "markdown",
      "source": [
        "***Problem 17:*** Write a function that will find all numbers between A and B (inclusive) such that each digit of the number is even. For example foo(20,26) returns [22,24,26]. Call the function for A=40 and B=140. 0 is even number."
      ]
    },
    {
      "metadata": {
        "id": "M7pcdNmI49tm",
        "colab_type": "code",
        "colab": {}
      },
      "cell_type": "code",
      "source": [
        "###_____________Start code here_________________###"
      ],
      "execution_count": 0,
      "outputs": []
    },
    {
      "metadata": {
        "id": "A_fq0Sb649rz",
        "colab_type": "code",
        "colab": {
          "base_uri": "https://localhost:8080/",
          "height": 35
        },
        "outputId": "538220bc-aab6-481f-eaa8-4aa1796da978"
      },
      "cell_type": "code",
      "source": [
        "def even(a,b):\n",
        "    lst1=[]\n",
        "    for i in range(a+1,b+1):\n",
        "            help=0\n",
        "            for j in str(i):\n",
        "                if int(j)%2==0:\n",
        "                    help+=1\n",
        "            if(help==len(str(i))):\n",
        "                lst1.append(i)                     \n",
        "    print(lst1)\n",
        "                \n",
        "even(40,140)"
      ],
      "execution_count": 191,
      "outputs": [
        {
          "output_type": "stream",
          "text": [
            "[42, 44, 46, 48, 60, 62, 64, 66, 68, 80, 82, 84, 86, 88]\n"
          ],
          "name": "stdout"
        }
      ]
    },
    {
      "metadata": {
        "id": "gUri4-KIk8EU",
        "colab_type": "code",
        "colab": {}
      },
      "cell_type": "code",
      "source": [
        "###_____________End code here_________________###"
      ],
      "execution_count": 0,
      "outputs": []
    },
    {
      "metadata": {
        "id": "ugiwox25k8EZ",
        "colab_type": "code",
        "colab": {}
      },
      "cell_type": "code",
      "source": [
        "# There is no need to run this chunk of code.\n",
        "ex17(40,140)"
      ],
      "execution_count": 0,
      "outputs": []
    },
    {
      "metadata": {
        "id": "kogSqakTk8Eg",
        "colab_type": "text"
      },
      "cell_type": "markdown",
      "source": [
        "***Problem 18:*** On basic cell phones numeric keypad is used to write a message. Write a function to output the numerical sequence of the keys to be pressed for any message. For instance, numerical sequence for typing \"P\" will be 7 and for \"I\" 444. Another example, the sequence for \"hello\" will be 4433555555666. Make the input text uppercase before converting to numerical sequence. Call the function for the following input **\"HI DEAR! I WILL BE LATE TODAY.\"**\n",
        "\n",
        "| Key | Symbols |\n",
        "|----|----|\n",
        "|1|. , ? ! :|\n",
        "|2|A B C|\n",
        "|3|D E F|\n",
        "|4|G H I|\n",
        "|5|J K L|\n",
        "|6|M N O|\n",
        "|7|P Q R S|\n",
        "|8|T U V|\n",
        "|9|W X Y Z|\n",
        "|0| space |\n"
      ]
    },
    {
      "metadata": {
        "id": "udbbPD-N5CMS",
        "colab_type": "code",
        "colab": {}
      },
      "cell_type": "code",
      "source": [
        "###_____________Start code here_________________###\n"
      ],
      "execution_count": 0,
      "outputs": []
    },
    {
      "metadata": {
        "id": "BAF57daB5CDY",
        "colab_type": "code",
        "colab": {
          "base_uri": "https://localhost:8080/",
          "height": 35
        },
        "outputId": "57b30f5d-3026-40bc-b39d-b1699d29983a"
      },
      "cell_type": "code",
      "source": [
        "def funct(string):\n",
        "    dict1={ \"1\":[\".\",\",\",\"?\",\"!\",\":\"],\"2\":[\"A\",\"B\",\"C\"],\"3\":[\"D\",\"E\",\"F\"],\"4\":[\"G\",\"H\",\"I\"],\"5\":[\"J\",\"K\",\"L\"], \"6\":[\"M\",\"N\",\"O\"],\"7\":[\"P\",\"Q\",\"R\",\"S\"], \"8\":[\"T\",\"U\",\"V\"],\"9\":[\"W\",\"X\",\"Y\",\"Z\"]}\n",
        "    l1=[]\n",
        "    string = string.upper()\n",
        "    for i in list(string):\n",
        "        for j in dict1.values():\n",
        "            for k in j:\n",
        "                if i==k:\n",
        "                    for l in dict1.keys():\n",
        "                        if k in dict1[l]:\n",
        "                            index=j.index(k) + 1\n",
        "                            num=l*index\n",
        "                            l1.append(num)\n",
        "    code=\",\".join(l1)\n",
        "    print(code)\n",
        "\n",
        "                                            \n",
        "funct(\"HI DEAR! I WILL BE LATE TODAY.\")"
      ],
      "execution_count": 193,
      "outputs": [
        {
          "output_type": "stream",
          "text": [
            "44,444,3,33,2,777,1111,444,9,444,555,555,22,33,555,2,8,33,8,666,3,2,999,1\n"
          ],
          "name": "stdout"
        }
      ]
    },
    {
      "metadata": {
        "id": "iMUdhiyDk8Ej",
        "colab_type": "code",
        "colab": {}
      },
      "cell_type": "code",
      "source": [
        "###_____________End code here_________________###"
      ],
      "execution_count": 0,
      "outputs": []
    },
    {
      "metadata": {
        "id": "4JYEHtysk8Er",
        "colab_type": "code",
        "colab": {}
      },
      "cell_type": "code",
      "source": [
        "# There is no need to run this chunk of code.\n",
        "print(ex18(\"HI DEAR! I WILL BE LATE TODAY.\"))"
      ],
      "execution_count": 0,
      "outputs": []
    },
    {
      "metadata": {
        "id": "R9nwocKwk8Ew",
        "colab_type": "text"
      },
      "cell_type": "markdown",
      "source": [
        "***Problem 20:*** Write a program that accepts a sentence and prints the number of letters and digits in it. Run the program for \"1, 2, 3, 4... Let's run the code!\" "
      ]
    },
    {
      "metadata": {
        "id": "gW7XdMn95Emp",
        "colab_type": "code",
        "colab": {}
      },
      "cell_type": "code",
      "source": [
        "###_____________Start code here_________________###"
      ],
      "execution_count": 0,
      "outputs": []
    },
    {
      "metadata": {
        "id": "deZ71zXv5Ei-",
        "colab_type": "code",
        "colab": {
          "base_uri": "https://localhost:8080/",
          "height": 52
        },
        "outputId": "916c0c9a-7118-447f-c99d-6858edfe6349"
      },
      "cell_type": "code",
      "source": [
        "input_string = \"1, 2, 3, 4... Let's run the code!\"\n",
        "dig=0\n",
        "let=0\n",
        "for i in input_string:\n",
        "    if i.isdigit():\n",
        "        dig+=1\n",
        "    elif i.isalpha():\n",
        "        let+=1\n",
        "    else:\n",
        "        pass\n",
        "print(\"There are \" + str(let) + \" latters in the sentence\")\n",
        "print(\"There are \" + str(dig) + \" digits in the sentence\")\n"
      ],
      "execution_count": 136,
      "outputs": [
        {
          "output_type": "stream",
          "text": [
            "There are 14 latters in the sentence\n",
            "There are 4 digits in the sentence\n"
          ],
          "name": "stdout"
        }
      ]
    },
    {
      "metadata": {
        "id": "3mxRr5Pck8Ex",
        "colab_type": "code",
        "colab": {}
      },
      "cell_type": "code",
      "source": [
        "###_____________End code here_________________###"
      ],
      "execution_count": 0,
      "outputs": []
    },
    {
      "metadata": {
        "id": "Xuno33k3k8E4",
        "colab_type": "code",
        "colab": {}
      },
      "cell_type": "code",
      "source": [
        "# There is no need to run this chunk of code.\n",
        "ex20(\"1, 2, 3, 4... Let's run the code!\")"
      ],
      "execution_count": 0,
      "outputs": []
    },
    {
      "metadata": {
        "id": "zDEI_IFQk8E-",
        "colab_type": "text"
      },
      "cell_type": "markdown",
      "source": [
        "***Problem 22:*** Two people throw two six-sided fair dices each. The one with greater sum wins, and if the sum is equal, they draw. Write a program that simulates the game and plays 100 time. Print the number of wins of Player 1, Player 2 and draws."
      ]
    },
    {
      "metadata": {
        "id": "3TBYQU8_5Hsj",
        "colab_type": "code",
        "colab": {}
      },
      "cell_type": "code",
      "source": [
        "###_____________Start code here_________________###"
      ],
      "execution_count": 0,
      "outputs": []
    },
    {
      "metadata": {
        "id": "0BiRhNMas3Ys",
        "colab_type": "code",
        "colab": {
          "base_uri": "https://localhost:8080/",
          "height": 69
        },
        "outputId": "9624b733-170e-42b8-cf2e-2a48543e92de"
      },
      "cell_type": "code",
      "source": [
        "import random\n",
        "import numpy as num\n",
        "sum1 = []\n",
        "sum2 = []\n",
        "sum3 = []\n",
        "sum4 = []\n",
        "winP1= 0\n",
        "winP2 = 0\n",
        "draw = 0\n",
        "for i in range(100):\n",
        "    sum1.append(random.randint(1,6))\n",
        "    sum2.append(random.randint(1,6))\n",
        "    sum3.append(random.randint(1,6))\n",
        "    sum4.append(random.randint(1,6))\n",
        "sum5 = num.add(sum1, sum2) \n",
        "sum6 = num.add(sum2, sum3)\n",
        "for r in range(100):\n",
        "    if sum5[r] > sum6[r]:\n",
        "        winP1 += 1\n",
        "    elif sum5[r] < sum6[r]:\n",
        "        winP2 += 1\n",
        "    elif sum5[r] == sum6[r]:\n",
        "        draw += 1\n",
        "print(\"Player 1 won \" + str(winP1) + \" times\")\n",
        "print(\"Player 2 won \" + str(winP2) + \" times\")\n",
        "print(\"Draws were \" + str(draw) + \" times\")"
      ],
      "execution_count": 116,
      "outputs": [
        {
          "output_type": "stream",
          "text": [
            "Player 1 won 46 times\n",
            "Player 2 won 38 times\n",
            "Draws were 16 times\n"
          ],
          "name": "stdout"
        }
      ]
    },
    {
      "metadata": {
        "id": "1tb1iOqDk8FA",
        "colab_type": "code",
        "colab": {}
      },
      "cell_type": "code",
      "source": [
        "###_____________End code here_________________###"
      ],
      "execution_count": 0,
      "outputs": []
    },
    {
      "metadata": {
        "id": "Ui4oljgNk8FE",
        "colab_type": "code",
        "colab": {}
      },
      "cell_type": "code",
      "source": [
        "# There is no need to run this chunk of code.\n",
        "ex22()"
      ],
      "execution_count": 0,
      "outputs": []
    },
    {
      "metadata": {
        "id": "_6cGe4FSk8FI",
        "colab_type": "text"
      },
      "cell_type": "markdown",
      "source": [
        "***Problem 23:*** Write a program that randomly generates a nine-character password. First 3 characters must be from the set \"let\", second 3 characters from the set \"num\", last three ones from the set \"sym\". Set seed() to 42 and generate a password."
      ]
    },
    {
      "metadata": {
        "id": "IuBZXo2lk8FJ",
        "colab_type": "code",
        "colab": {}
      },
      "cell_type": "code",
      "source": [
        "let = {'A','B','C','a','b','c'}\n",
        "num = {1,2,3,4,5,6}\n",
        "sym = {'!','@','#','$','%','^'}"
      ],
      "execution_count": 0,
      "outputs": []
    },
    {
      "metadata": {
        "id": "sGzuCcJ95J76",
        "colab_type": "code",
        "colab": {}
      },
      "cell_type": "code",
      "source": [
        "###_____________Start code here_________________###"
      ],
      "execution_count": 0,
      "outputs": []
    },
    {
      "metadata": {
        "id": "XU-dvbO3-DVa",
        "colab_type": "code",
        "colab": {
          "base_uri": "https://localhost:8080/",
          "height": 35
        },
        "outputId": "1c895170-2063-4e3f-ea41-ceab5a655213"
      },
      "cell_type": "code",
      "source": [
        "\n",
        "newlet=list(let)\n",
        "newnum=list(num)\n",
        "newsym=list(sym)\n",
        "\n",
        "pswd = []\n",
        "\n",
        "from random import randint\n",
        "a=randint(0, 5)\n",
        "\n",
        "from random import randint\n",
        "b=randint(0, 5)\n",
        "\n",
        "from random import randint\n",
        "c=randint(0, 5)\n",
        "\n",
        "pswd=newlet[a]+newlet[b]+newlet[c]+str(newnum[a])+str(newnum[b])+str(newnum[c])+newsym[a]+newsym[b]+newsym[c]\n",
        "pswd"
      ],
      "execution_count": 184,
      "outputs": [
        {
          "output_type": "execute_result",
          "data": {
            "text/plain": [
              "'BCB161%$%'"
            ]
          },
          "metadata": {
            "tags": []
          },
          "execution_count": 184
        }
      ]
    },
    {
      "metadata": {
        "id": "RavMutIq5J2N",
        "colab_type": "code",
        "colab": {}
      },
      "cell_type": "code",
      "source": [
        " "
      ],
      "execution_count": 0,
      "outputs": []
    },
    {
      "metadata": {
        "id": "35nIdY0pk8FR",
        "colab_type": "code",
        "colab": {}
      },
      "cell_type": "code",
      "source": [
        "###_____________End code here_________________###"
      ],
      "execution_count": 0,
      "outputs": []
    },
    {
      "metadata": {
        "id": "nip08JRck8FX",
        "colab_type": "code",
        "colab": {}
      },
      "cell_type": "code",
      "source": [
        "# There is no need to run this chunk of code.\n",
        "ex23()"
      ],
      "execution_count": 0,
      "outputs": []
    },
    {
      "metadata": {
        "id": "cv_hFr3jk8Fc",
        "colab_type": "text"
      },
      "cell_type": "markdown",
      "source": [
        "\n",
        "***Problem 24:*** Write a program to find all the numbers divisible by 6 but not a multiple of 5 between 100 and 500 (inclusive). Print the numbers as a comma-separated string."
      ]
    },
    {
      "metadata": {
        "id": "_JHrbOmm5Pyp",
        "colab_type": "code",
        "colab": {}
      },
      "cell_type": "code",
      "source": [
        "###_____________Start code here_________________###"
      ],
      "execution_count": 0,
      "outputs": []
    },
    {
      "metadata": {
        "id": "XwfRGh1x5NCZ",
        "colab_type": "code",
        "colab": {
          "base_uri": "https://localhost:8080/",
          "height": 55
        },
        "outputId": "7e0d605b-655b-4d99-8d65-e1553789f46d"
      },
      "cell_type": "code",
      "source": [
        "div_by_six=[i for i in range(100,501) if i%6==0 and i%5!=0]\n",
        "str_div=str(div_by_six)\n",
        "print(str_div)"
      ],
      "execution_count": 8,
      "outputs": [
        {
          "output_type": "stream",
          "text": [
            "[102, 108, 114, 126, 132, 138, 144, 156, 162, 168, 174, 186, 192, 198, 204, 216, 222, 228, 234, 246, 252, 258, 264, 276, 282, 288, 294, 306, 312, 318, 324, 336, 342, 348, 354, 366, 372, 378, 384, 396, 402, 408, 414, 426, 432, 438, 444, 456, 462, 468, 474, 486, 492, 498]\n"
          ],
          "name": "stdout"
        }
      ]
    },
    {
      "metadata": {
        "id": "Td8aR2-55M-z",
        "colab_type": "code",
        "colab": {}
      },
      "cell_type": "code",
      "source": [
        ""
      ],
      "execution_count": 0,
      "outputs": []
    },
    {
      "metadata": {
        "id": "98_OAodqk8Fd",
        "colab_type": "code",
        "colab": {}
      },
      "cell_type": "code",
      "source": [
        "###_____________End code here_________________###"
      ],
      "execution_count": 0,
      "outputs": []
    },
    {
      "metadata": {
        "id": "0kSMikx_k8Fi",
        "colab_type": "code",
        "colab": {}
      },
      "cell_type": "code",
      "source": [
        "# There is no need to run this chunk of code.\n",
        "ex24()"
      ],
      "execution_count": 0,
      "outputs": []
    },
    {
      "metadata": {
        "id": "sKs2_T_xk8Fl",
        "colab_type": "text"
      },
      "cell_type": "markdown",
      "source": [
        "***Example 25:*** Write a program that converts \"firstname lastname\" to \"lastname, firstname\", using list comprehensions."
      ]
    },
    {
      "metadata": {
        "id": "IgoPLDFOk8Fm",
        "colab_type": "code",
        "colab": {}
      },
      "cell_type": "code",
      "source": [
        "ls = ['Հրաչյա Վարդանյան', 'Անուշ Կարապետյան', 'Գոռ Անտոնյան', 'Տաթեւ Հարությունյան', 'Mary Sargsyan']"
      ],
      "execution_count": 0,
      "outputs": []
    },
    {
      "metadata": {
        "id": "a8QfpWh_5RPy",
        "colab_type": "code",
        "colab": {}
      },
      "cell_type": "code",
      "source": [
        "###_____________Start code here_________________###"
      ],
      "execution_count": 0,
      "outputs": []
    },
    {
      "metadata": {
        "id": "SLLagRH2rync",
        "colab_type": "code",
        "colab": {
          "base_uri": "https://localhost:8080/",
          "height": 35
        },
        "outputId": "d139751e-bce9-4d65-bdff-d17801cee7b0"
      },
      "cell_type": "code",
      "source": [
        "ls = ['Հրաչյա Վարդանյան', 'Անուշ Կարապետյան', 'Գոռ Անտոնյան', 'Տաթեւ Հարությունյան', 'Mary Sargsyan']\n",
        "def revname(ls):\n",
        "    ls2=\"\"\n",
        "    for a in ls:\n",
        "        i = a.index(\" \")\n",
        "        w1 = a[0:i]\n",
        "        w2 = a[i+1:]\n",
        "        s=w2+\" \"+w1+\" \"\n",
        "        ls2=str(ls2)+s\n",
        "    return ls2.split()\n",
        "print(revname(ls))"
      ],
      "execution_count": 199,
      "outputs": [
        {
          "output_type": "stream",
          "text": [
            "['Վարդանյան', 'Հրաչյա', 'Կարապետյան', 'Անուշ', 'Անտոնյան', 'Գոռ', 'Հարությունյան', 'Տաթեւ', 'Sargsyan', 'Mary']\n"
          ],
          "name": "stdout"
        }
      ]
    },
    {
      "metadata": {
        "id": "IOFh-SyxDplc",
        "colab_type": "code",
        "colab": {}
      },
      "cell_type": "code",
      "source": [
        ""
      ],
      "execution_count": 0,
      "outputs": []
    },
    {
      "metadata": {
        "id": "T_gJm6k0k8Fp",
        "colab_type": "code",
        "colab": {}
      },
      "cell_type": "code",
      "source": [
        "###_____________End code here_________________###"
      ],
      "execution_count": 0,
      "outputs": []
    },
    {
      "metadata": {
        "id": "D8Oge5syk8Fr",
        "colab_type": "code",
        "colab": {}
      },
      "cell_type": "code",
      "source": [
        "# There is no need to run this chunk of code.\n",
        "ex25(ls)"
      ],
      "execution_count": 0,
      "outputs": []
    },
    {
      "metadata": {
        "id": "XT-6gEsSk8Ft",
        "colab_type": "text"
      },
      "cell_type": "markdown",
      "source": [
        "***Problem 27:*** Write a function to devide an input list of ages between 0 and 70 into 4 groups.<br><br>\n",
        "Baby Boomers  - (50 to 70 years old]<br>\n",
        "Generation X - (34 to 50 years old]<br>\n",
        "Generation Y - (18 to 34 years old]<br>\n",
        "Generation Z - [0 to 18 years old]<br>\n",
        "\n",
        "Return a dictionary with the following structure:\n",
        "{'Group 1':[ages],'Group 2':[ages],'Group 3':[ages],'Group 4':[ages]}"
      ]
    },
    {
      "metadata": {
        "id": "QTxvMHq05S5B",
        "colab_type": "code",
        "colab": {}
      },
      "cell_type": "code",
      "source": [
        "ls = [18,29,3,14,69,10,1,58,52,23,24,5,65]\n",
        "###_____________Start code here_________________###\n"
      ],
      "execution_count": 0,
      "outputs": []
    },
    {
      "metadata": {
        "id": "WO1PQYgp5S2_",
        "colab_type": "code",
        "colab": {
          "base_uri": "https://localhost:8080/",
          "height": 35
        },
        "outputId": "ebd35308-ea27-45c0-e7a4-5b5eed3fda7a"
      },
      "cell_type": "code",
      "source": [
        "def divide(lst):\n",
        "    baby_boomers=[]\n",
        "    generation_x=[]\n",
        "    generation_y=[]\n",
        "    generation_z=[]\n",
        "    for age in lst:\n",
        "        if age>50 and age<=70:\n",
        "            baby_boomers.append(age)\n",
        "        elif age>35 and age<=50:\n",
        "            generation_x.append(age)\n",
        "        elif age>18 and age<=34:\n",
        "            generation_y.append(age)\n",
        "        elif age>=0 and age<=18:\n",
        "            generation_z.append(age)\n",
        "    age_dict={'Group 1':baby_boomers,'Group 2':generation_x,'Group 3':generation_y,'Group 4':generation_z}\n",
        "    print(age_dict)\n",
        "divide(ls)"
      ],
      "execution_count": 202,
      "outputs": [
        {
          "output_type": "stream",
          "text": [
            "{'Group 1': [69, 58, 52, 65], 'Group 2': [], 'Group 3': [29, 23, 24], 'Group 4': [18, 3, 14, 10, 1, 5]}\n"
          ],
          "name": "stdout"
        }
      ]
    },
    {
      "metadata": {
        "id": "VC49VAiyk8Ft",
        "colab_type": "code",
        "colab": {}
      },
      "cell_type": "code",
      "source": [
        "###_____________End code here_________________###"
      ],
      "execution_count": 0,
      "outputs": []
    },
    {
      "metadata": {
        "id": "mUO06ov1k8Fw",
        "colab_type": "code",
        "colab": {}
      },
      "cell_type": "code",
      "source": [
        "# There is no need to run this chunk of code.\n",
        "ex27(ls)"
      ],
      "execution_count": 0,
      "outputs": []
    }
  ]
}